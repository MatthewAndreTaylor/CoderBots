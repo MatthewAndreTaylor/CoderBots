{
 "cells": [
  {
   "cell_type": "code",
   "execution_count": 2,
   "id": "2f62025b",
   "metadata": {},
   "outputs": [
    {
     "name": "stdout",
     "output_type": "stream",
     "text": [
      "Collecting coderbot-sim\n",
      "  Downloading coderbot_sim-0.0.1-py3-none-any.whl.metadata (181 bytes)\n",
      "Downloading coderbot_sim-0.0.1-py3-none-any.whl (8.9 kB)\n",
      "Installing collected packages: coderbot-sim\n",
      "Successfully installed coderbot-sim-0.0.1\n",
      "Note: you may need to restart the kernel to use updated packages.\n"
     ]
    }
   ],
   "source": [
    "%pip install coderbot-sim"
   ]
  },
  {
   "cell_type": "code",
   "execution_count": 1,
   "id": "405e9cfe",
   "metadata": {},
   "outputs": [
    {
     "data": {
      "application/vnd.jupyter.widget-view+json": {
       "model_id": "81c389413e96456392f0006fa989c98c",
       "version_major": 2,
       "version_minor": 1
      },
      "text/plain": [
       "RobotPanel(env_map={'name': 'rect_triangle_map', 'ppm': 10, 'shapes': [{'type': 'rectangle', 'x': 400, 'y': 0,…"
      ]
     },
     "metadata": {},
     "output_type": "display_data"
    },
    {
     "name": "stdout",
     "output_type": "stream",
     "text": [
      "Goal Point: (40.520853872564615, 30.999998928736936)\n",
      "My Robot: {'pos': [40.0, 50.0]}\n",
      "Diff X: 0.520853872564615, Diff Y: -19.000001071263064\n"
     ]
    }
   ],
   "source": [
    "from coderbot_package.simple_client import RobotPanel\n",
    "import time\n",
    "\n",
    "robot_panel = RobotPanel()\n",
    "\n",
    "robot_panel.show()\n",
    "\n",
    "sensor_data = robot_panel.sensor()\n",
    "\n",
    "points = sensor_data.get(\"hit_points\", [])\n",
    "tags = sensor_data.get(\"tags\", [])\n",
    "\n",
    "goal_points = []\n",
    "\n",
    "for tag, point in zip(tags, points):\n",
    "    if tag == \"goal\":\n",
    "        print(f\"Goal Point: {point}\")\n",
    "        goal_points.append(point)\n",
    "\n",
    "robot_step = robot_panel.robot_env()\n",
    "robot_state = robot_step[\"robot\"]\n",
    "\n",
    "print(f\"My Robot: {robot_state}\")\n",
    "\n",
    "diff_x = goal_points[-1][0] - robot_state[\"pos\"][0]\n",
    "diff_y = goal_points[-1][1] - robot_state[\"pos\"][1]\n",
    "\n",
    "print(f\"Diff X: {diff_x}, Diff Y: {diff_y}\")\n",
    "\n",
    "# normalize\n",
    "norm = (diff_x**2 + diff_y**2)**0.5\n",
    "if norm > 0:\n",
    "    diff_x /= norm\n",
    "    diff_y /= norm\n",
    "\n",
    "# choose the direction of movement\n",
    "robot_panel.move(diff_x, diff_y, 0.0)"
   ]
  },
  {
   "cell_type": "code",
   "execution_count": null,
   "id": "36a21c74",
   "metadata": {},
   "outputs": [],
   "source": [
    "sensor_data = robot_panel.sensor(num_beams=120, max_range=1000.0, noise_std=0, fov=6.28)"
   ]
  },
  {
   "cell_type": "code",
   "execution_count": 2,
   "id": "708217fa",
   "metadata": {},
   "outputs": [],
   "source": [
    "\n",
    "for i in range(5):\n",
    "    robot_panel.fire(speed=20000.0, angle=0.1*i)\n",
    "    \n",
    "    \n",
    "for i, _ in enumerate(robot_panel.step(num_steps=30)):\n",
    "    pass\n",
    "    \n",
    "\n",
    "# We create a stream for the robot's steps\n",
    "# for step in robot_panel.step(num_steps=30):\n",
    "#     print(step)\n",
    "\n",
    "#     sensor_data = robot_panel.sensor()\n",
    "#     print(sensor_data)\n",
    "    \n",
    "#     time.sleep(0.1)\n",
    "    \n",
    "    \n",
    "# bullet mess up sensor readings, this is intentional\n",
    "\n",
    "# a good test of the sensor system"
   ]
  }
 ],
 "metadata": {
  "kernelspec": {
   "display_name": "Python 3",
   "language": "python",
   "name": "python3"
  },
  "language_info": {
   "codemirror_mode": {
    "name": "ipython",
    "version": 3
   },
   "file_extension": ".py",
   "mimetype": "text/x-python",
   "name": "python",
   "nbconvert_exporter": "python",
   "pygments_lexer": "ipython3",
   "version": "3.13.7"
  }
 },
 "nbformat": 4,
 "nbformat_minor": 5
}
