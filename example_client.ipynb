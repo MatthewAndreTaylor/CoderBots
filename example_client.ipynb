{
 "cells": [
  {
   "cell_type": "code",
   "execution_count": 1,
   "id": "303a7013",
   "metadata": {},
   "outputs": [
    {
     "data": {
      "application/vnd.jupyter.widget-view+json": {
       "model_id": "b1c40b54ef3d4a03be351abd8651faf5",
       "version_major": 2,
       "version_minor": 1
      },
      "text/plain": [
       "RobotPanel(controls=True)"
      ]
     },
     "metadata": {},
     "output_type": "display_data"
    }
   ],
   "source": [
    "from component_example import RobotPanel\n",
    "\n",
    "robot_panel = RobotPanel()\n",
    "\n",
    "robot_panel.controls = True\n",
    "\n",
    "robot_panel.show()\n"
   ]
  },
  {
   "cell_type": "code",
   "execution_count": 3,
   "id": "9f15c1ff",
   "metadata": {},
   "outputs": [
    {
     "name": "stdout",
     "output_type": "stream",
     "text": [
      "{'pos': [41.16999816894531, 50.0]}\n",
      "{'pos': [42.31074905395508, 50.0]}\n",
      "{'pos': [43.42298126220703, 50.0]}\n",
      "{'pos': [44.507408142089844, 50.0]}\n",
      "{'pos': [45.56472396850586, 50.0]}\n",
      "{'pos': [46.59560775756836, 50.0]}\n",
      "{'pos': [47.6007194519043, 50.0]}\n",
      "{'pos': [48.58070373535156, 50.0]}\n",
      "{'pos': [49.53618621826172, 50.0]}\n",
      "{'pos': [50.46778106689453, 50.0]}\n",
      "{'pos': [51.3760871887207, 50.0]}\n",
      "{'pos': [52.26168441772461, 50.0]}\n",
      "{'pos': [53.12514114379883, 50.0]}\n",
      "{'pos': [53.96701431274414, 50.0]}\n",
      "{'pos': [54.787837982177734, 50.0]}\n",
      "{'pos': [55.58814239501953, 50.0]}\n",
      "{'pos': [56.368438720703125, 50.0]}\n",
      "{'pos': [57.12922668457031, 50.0]}\n",
      "{'pos': [57.87099838256836, 50.0]}\n",
      "{'pos': [58.59422302246094, 50.0]}\n",
      "{'pos': [59.29936981201172, 50.0]}\n",
      "{'pos': [59.98688507080078, 50.0]}\n",
      "{'pos': [60.6572151184082, 50.0]}\n",
      "{'pos': [61.310787200927734, 50.0]}\n",
      "{'pos': [61.94801712036133, 50.0]}\n"
     ]
    }
   ],
   "source": [
    "for step in robot_panel.step(num_steps=25):\n",
    "    print(step)"
   ]
  },
  {
   "cell_type": "code",
   "execution_count": null,
   "id": "405e9cfe",
   "metadata": {},
   "outputs": [],
   "source": [
    "from component_example import RobotPanel\n",
    "\n",
    "robot_panel = RobotPanel()\n",
    "\n",
    "robot_panel.show()\n",
    "\n",
    "sensor_data = robot_panel.sensor()\n",
    "\n",
    "points = sensor_data.get(\"hit_points\", [])\n",
    "tags = sensor_data.get(\"tags\", [])\n",
    "\n",
    "goal_points = []\n",
    "\n",
    "for tag, point in zip(tags, points):\n",
    "    if tag == \"goal\":\n",
    "        print(f\"Goal Point: {point}\")\n",
    "        goal_points.append(point)\n",
    "\n",
    "robot_step = robot_panel.robot_env()\n",
    "robot_state = robot_step[\"robot\"]\n",
    "\n",
    "print(f\"My Robot: {robot_state}\")\n",
    "\n",
    "diff_x = goal_points[-1][0] - robot_state[\"pos\"][0]\n",
    "diff_y = goal_points[-1][1] - robot_state[\"pos\"][1]\n",
    "\n",
    "print(f\"Diff X: {diff_x}, Diff Y: {diff_y}\")\n",
    "\n",
    "# normalize\n",
    "norm = (diff_x**2 + diff_y**2)**0.5\n",
    "if norm > 0:\n",
    "    diff_x /= norm\n",
    "    diff_y /= norm\n",
    "\n",
    "# choose the direction of movement\n",
    "robot_panel.move(diff_x, diff_y, 0.0)\n",
    "\n",
    "# We create a stream for the robot's steps\n",
    "# Latency on the first step is higher (may want to look at websockets)\n",
    "for step in robot_panel.step(num_steps=25):\n",
    "    print(step)\n",
    "\n",
    "sensor_data = robot_panel.sensor()\n",
    "print(sensor_data)"
   ]
  }
 ],
 "metadata": {
  "kernelspec": {
   "display_name": "Python 3",
   "language": "python",
   "name": "python3"
  },
  "language_info": {
   "codemirror_mode": {
    "name": "ipython",
    "version": 3
   },
   "file_extension": ".py",
   "mimetype": "text/x-python",
   "name": "python",
   "nbconvert_exporter": "python",
   "pygments_lexer": "ipython3",
   "version": "3.13.7"
  }
 },
 "nbformat": 4,
 "nbformat_minor": 5
}
