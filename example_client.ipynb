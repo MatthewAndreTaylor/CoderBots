{
 "cells": [
  {
   "cell_type": "code",
   "execution_count": 1,
   "id": "303a7013",
   "metadata": {},
   "outputs": [
    {
     "data": {
      "application/vnd.jupyter.widget-view+json": {
       "model_id": "7d2e314c67654309a6ed7736ef9f5909",
       "version_major": 2,
       "version_minor": 1
      },
      "text/plain": [
       "RobotPanel()"
      ]
     },
     "execution_count": 1,
     "metadata": {},
     "output_type": "execute_result"
    }
   ],
   "source": [
    "from component_example import RobotPanel\n",
    "\n",
    "robot_panel = RobotPanel()\n",
    "robot_panel\n"
   ]
  }
 ],
 "metadata": {
  "kernelspec": {
   "display_name": "Python 3",
   "language": "python",
   "name": "python3"
  },
  "language_info": {
   "codemirror_mode": {
    "name": "ipython",
    "version": 3
   },
   "file_extension": ".py",
   "mimetype": "text/x-python",
   "name": "python",
   "nbconvert_exporter": "python",
   "pygments_lexer": "ipython3",
   "version": "3.13.7"
  }
 },
 "nbformat": 4,
 "nbformat_minor": 5
}
