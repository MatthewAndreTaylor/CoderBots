{
 "cells": [
  {
   "cell_type": "code",
   "execution_count": 9,
   "id": "303a7013",
   "metadata": {},
   "outputs": [
    {
     "data": {
      "application/vnd.jupyter.widget-view+json": {
       "model_id": "0b72538cb89e4ae2be94c5f0a18c1a10",
       "version_major": 2,
       "version_minor": 1
      },
      "text/plain": [
       "RobotPanel()"
      ]
     },
     "metadata": {},
     "output_type": "display_data"
    },
    {
     "name": "stdout",
     "output_type": "stream",
     "text": [
      "Goal Point: [38.614014774647444, 32.499999536749684]\n",
      "Goal Point: [40.47973382730729, 32.499999111307474]\n",
      "Goal Point: [42.356414166403894, 32.49999992532484]\n",
      "My Robot: {'angle': 0.0, 'position': [40.0, 50.0]}\n",
      "Diff X: 2.3564141664038942, Diff Y: -17.500000074675157\n"
     ]
    }
   ],
   "source": [
    "from component_example import RobotPanel\n",
    "\n",
    "robot_panel = RobotPanel()\n",
    "\n",
    "sensor_data = robot_panel.sensor()\n",
    "\n",
    "points = sensor_data.get(\"hit_points\", [])\n",
    "tags = sensor_data.get(\"tags\", [])\n",
    "\n",
    "goal_points = []\n",
    "\n",
    "for tag, point in zip(tags, points):\n",
    "    if tag == \"goal\":\n",
    "        print(f\"Goal Point: {point}\")\n",
    "        goal_points.append(point)\n",
    "\n",
    "robot_step = robot_panel.step(time=0)\n",
    "robot_state = robot_step[\"robot\"]\n",
    "\n",
    "print(f\"My Robot: {robot_state}\")\n",
    "\n",
    "diff_x = goal_points[-1][0] - robot_state[\"position\"][0]\n",
    "diff_y = goal_points[-1][1] - robot_state[\"position\"][1]\n",
    "\n",
    "print(f\"Diff X: {diff_x}, Diff Y: {diff_y}\")\n",
    "\n",
    "# normalize\n",
    "norm = (diff_x**2 + diff_y**2)**0.5\n",
    "if norm > 0:\n",
    "    diff_x /= norm\n",
    "    diff_y /= norm\n",
    "\n",
    "# choose the direction of movement\n",
    "robot_panel.move(diff_x, diff_y, 0.0)\n",
    "\n",
    "\n",
    "for _ in range(10):\n",
    "    robot_panel.step(time=0.25)\n"
   ]
  }
 ],
 "metadata": {
  "kernelspec": {
   "display_name": "Python 3",
   "language": "python",
   "name": "python3"
  },
  "language_info": {
   "codemirror_mode": {
    "name": "ipython",
    "version": 3
   },
   "file_extension": ".py",
   "mimetype": "text/x-python",
   "name": "python",
   "nbconvert_exporter": "python",
   "pygments_lexer": "ipython3",
   "version": "3.13.7"
  }
 },
 "nbformat": 4,
 "nbformat_minor": 5
}
