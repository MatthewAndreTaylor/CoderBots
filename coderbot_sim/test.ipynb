{
 "cells": [
  {
   "cell_type": "code",
   "execution_count": null,
   "id": "7470de1b",
   "metadata": {},
   "outputs": [
    {
     "data": {
      "application/vnd.jupyter.widget-view+json": {
       "model_id": "7dfcd189dd1a4041bc88785708f7ba2d",
       "version_major": 2,
       "version_minor": 1
      },
      "text/plain": [
       "RobotSim(mapData={'map': [{'type': 'rectangle', 'x': 400, 'y': 0, 'width': 800, 'height': 30, 'bodyInfo': {'an…"
      ]
     },
     "metadata": {},
     "output_type": "display_data"
    },
    {
     "data": {
      "text/plain": [
       "<_GatheringFuture pending>"
      ]
     },
     "execution_count": 1,
     "metadata": {},
     "output_type": "execute_result"
    },
    {
     "name": "stdout",
     "output_type": "stream",
     "text": [
      "{}\n",
      "{'lidar': {'angles': [-3.141592653589793, -2.9249310912732556, -2.708269528956718, -2.4916079666401805, -2.2749464043236434, -2.058284842007106, -1.8416232796905683, -1.624961717374031, -1.4083001550574934, -1.191638592740956, -0.9749770304244185, -0.7583154681078814, -0.5416539057913434, -0.3249923434748059, -0.10833078115826877, 0.10833078115826833, 0.3249923434748063, 0.5416539057913439, 0.758315468107881, 0.9749770304244185, 1.191638592740956, 1.4083001550574936, 1.6249617173740303, 1.8416232796905678, 2.0582848420071063, 2.274946404323644, 2.4916079666401814, 2.708269528956718, 2.9249310912732556, 3.141592653589793], 'hitPoints': [{'x': 20, 'y': 357.9334720222082}, {'x': 453.21389789851463, 'y': 319.0814300296391}, {'x': 487.1504190814288, 'y': 291.9735268518358}, {'x': 528.2290805287346, 'y': 280.7816975987043}, {'x': 515.8795650426416, 'y': 223.90955750567906}, {'x': 485.7468845705834, 'y': 86.37041741282314}, {'x': 595.0407067661608, 'y': 233.02813050943905}, {'x': 623.0530080534949, 'y': 234.9587429256735}, {'x': 638.0474583584801, 'y': 307.14129822068753}, {'x': 642.6456807459455, 'y': 325.493724850537}, {'x': 651.7151984596958, 'y': 325.493724850537}, {'x': 663.9667288449128, 'y': 325.493724850537}, {'x': 683.6357833370164, 'y': 325.493724850537}, {'x': 780, 'y': 307.29841434580226}, {'x': 780, 'y': 341.5895919137972}, {'x': 780, 'y': 374.27735213061925}, {'x': 780, 'y': 408.56852969861427}, {'x': 780, 'y': 448.3536446092893}, {'x': 780, 'y': 500.28577191644507}, {'x': 780, 'y': 579.5791460929343}, {'x': 651.4478889228725, 'y': 412.4650958658126}, {'x': 634.7448030487762, 'y': 388.5803396470592}, {'x': 627.8489963502893, 'y': 392.45140189767335}, {'x': 618.712635358528, 'y': 397.58023216940137}, {'x': 604.4590030061959, 'y': 405.58171778896644}, {'x': 575.3839233138413, 'y': 421.90344030119445}, {'x': 337.59698232198417, 'y': 580}, {'x': 149.73156996536517, 'y': 580}, {'x': 20, 'y': 492.1431038097877}, {'x': 20, 'y': 357.9334720222083}], 'labels': ['Rectangle Body', 'Obstacle', 'Obstacle', 'Obstacle', 'Obstacle', 'Pushable Box', 'Obstacle', 'Obstacle', 'Pushable Box', 'Pushable Box', 'Pushable Box', 'Pushable Box', 'Pushable Box', 'Rectangle Body', 'Rectangle Body', 'Rectangle Body', 'Rectangle Body', 'Rectangle Body', 'Rectangle Body', 'Rectangle Body', 'Obstacle', 'Obstacle', 'Obstacle', 'Obstacle', 'Obstacle', 'Obstacle', 'Rectangle Body', 'Rectangle Body', 'Rectangle Body', 'Rectangle Body']}}\n"
     ]
    }
   ],
   "source": [
    "import pathlib\n",
    "import anywidget\n",
    "import traitlets\n",
    "import asyncio\n",
    "\n",
    "from example_maps import gen_simple_map\n",
    "\n",
    "class RobotSim(anywidget.AnyWidget):\n",
    "    _esm = pathlib.Path(\"sim.js\")\n",
    "    _css = pathlib.Path(\"styles.css\")\n",
    "\n",
    "    mapData = traitlets.Dict().tag(sync=True)\n",
    "    show_controls = traitlets.Bool(default_value=False).tag(sync=True)\n",
    "    controls = traitlets.Dict().tag(sync=True)\n",
    "    sensorData = traitlets.Dict().tag(sync=True) \n",
    "\n",
    "    def __init__(self, env_map, show_controls=False):\n",
    "        super().__init__()\n",
    "        self.env_map = env_map\n",
    "        self.robot_data = env_map.get(\"robot\", {\"pos\": [200, 200], \"angle\": 0})\n",
    "        self.mapData = {\n",
    "            \"map\": env_map.get(\"map\", []),\n",
    "            \"robot\": self.robot_data\n",
    "        }\n",
    "        self.show_controls = show_controls\n",
    "\n",
    "    def sensor(self):\n",
    "        \"\"\"Signal to check the robot's sensors.\"\"\"\n",
    "        return self.sensorData\n",
    "\n",
    "    def move(self, **kwargs):\n",
    "        \"\"\"Control robot from Python.\"\"\"\n",
    "        data = dict(kwargs)\n",
    "        self.controls = { \"data\": data, \"_sync\": id(data) }\n",
    "\n",
    "    async def step(self, dt, **kwargs):\n",
    "        \"\"\"Step the simulation forward in time.\"\"\"\n",
    "        stop = { \"forward\": False, \"backward\": False, \"left\": False, \"right\": False }\n",
    "        self.move(**kwargs)\n",
    "        await asyncio.sleep(dt)\n",
    "        self.move(**stop)\n",
    "\n",
    "\n",
    "# Example usage\n",
    "from IPython.display import display\n",
    "widget = RobotSim(gen_simple_map())\n",
    "display(widget)\n",
    "\n",
    "async def my_sim():\n",
    "    print(widget.sensor())\n",
    "    await widget.step(0.5, forward=True)\n",
    "    print(widget.sensor())\n",
    "\n",
    "asyncio.gather(my_sim(),)"
   ]
  },
  {
   "cell_type": "code",
   "execution_count": null,
   "id": "9c571a65",
   "metadata": {},
   "outputs": [],
   "source": [
    "widget.move(**{\n",
    "  \"forward\": False,\n",
    "  \"backward\": True\n",
    "})"
   ]
  }
 ],
 "metadata": {
  "kernelspec": {
   "display_name": "Python 3",
   "language": "python",
   "name": "python3"
  },
  "language_info": {
   "codemirror_mode": {
    "name": "ipython",
    "version": 3
   },
   "file_extension": ".py",
   "mimetype": "text/x-python",
   "name": "python",
   "nbconvert_exporter": "python",
   "pygments_lexer": "ipython3",
   "version": "3.13.7"
  }
 },
 "nbformat": 4,
 "nbformat_minor": 5
}
