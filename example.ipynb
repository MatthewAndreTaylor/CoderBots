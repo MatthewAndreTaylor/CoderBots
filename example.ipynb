{
 "cells": [
  {
   "cell_type": "markdown",
   "id": "6a62913d",
   "metadata": {},
   "source": [
    "# Example usage"
   ]
  },
  {
   "cell_type": "code",
   "execution_count": null,
   "id": "f8ce3f7e",
   "metadata": {},
   "outputs": [],
   "source": [
    "%pip install coderbot_sim"
   ]
  },
  {
   "cell_type": "code",
   "execution_count": null,
   "id": "7470de1b",
   "metadata": {},
   "outputs": [],
   "source": [
    "from coderbot_sim import RobotSim, example_maps\n",
    "from IPython.display import display\n",
    "import asyncio\n",
    "\n",
    "widget = RobotSim(example_maps.gen_simple_map(), debugDraw=True, show_controls=True)\n",
    "display(widget)\n",
    "\n",
    "async def my_sim():\n",
    "    print(widget.sensor())\n",
    "    await widget.step(0.5, forward=True)\n",
    "    print(widget.sensor())\n",
    "\n",
    "asyncio.gather(my_sim(),)"
   ]
  },
  {
   "cell_type": "code",
   "execution_count": null,
   "id": "9c571a65",
   "metadata": {},
   "outputs": [],
   "source": [
    "widget.reset()"
   ]
  },
  {
   "cell_type": "markdown",
   "id": "c49a2385",
   "metadata": {},
   "source": [
    "# Simple _mock_ training"
   ]
  },
  {
   "cell_type": "code",
   "execution_count": null,
   "id": "32f9b236",
   "metadata": {},
   "outputs": [],
   "source": [
    "from coderbot_sim import RobotSim, example_maps\n",
    "from IPython.display import display\n",
    "import asyncio\n",
    "import numpy as np\n",
    "import random\n",
    "\n",
    "ACTIONS = [\"forward\", \"left\", \"right\"]\n",
    "\n",
    "q_table = {}\n",
    "alpha = 0.1  # learning rate\n",
    "gamma = 0.9  # discount factor\n",
    "epsilon = 0.1  # exploration rate\n",
    "\n",
    "def get_state(lidar):\n",
    "    # Quantize distances into bins\n",
    "    distances = [np.linalg.norm(p) for p in lidar.get(\"hitPoints\", [])[:8]]\n",
    "    # Change heuristic based on hitBodies; Goal > Pushable Box > Obstacle > Wall\n",
    "    bins = np.digitize(distances, [50, 100, 200])\n",
    "    return tuple(bins)\n",
    "\n",
    "def choose_action(state):\n",
    "    if random.random() < epsilon or state not in q_table:\n",
    "        return random.choice(ACTIONS)\n",
    "    return max(q_table[state], key=q_table[state].get)\n",
    "\n",
    "async def take_action(action):\n",
    "    if action == \"forward\":\n",
    "        await widget.step(0.1, forward=True)\n",
    "    elif action == \"left\":\n",
    "        await widget.step(0.2, left=True)\n",
    "    elif action == \"right\":\n",
    "        await widget.step(0.2, right=True)\n",
    "\n",
    "async def train_q_learning(episodes=5):\n",
    "    for ep in range(episodes):\n",
    "        total_reward = 0\n",
    "        for _ in range(50):\n",
    "            data = widget.sensor()\n",
    "            lidar = data.get(\"lidar\", {})\n",
    "            state = get_state(lidar)\n",
    "\n",
    "            action = choose_action(state)\n",
    "            await take_action(action)\n",
    "\n",
    "            next_data = widget.sensor()\n",
    "            next_state = get_state(next_data.get(\"lidar\", {}))\n",
    "\n",
    "            # Reward: penalize close walls\n",
    "            distances = [np.linalg.norm(p) for p in lidar.get(\"hitPoints\", [])]\n",
    "            reward = -np.sum(np.array(distances) < 50) * 0.1 + 1.0\n",
    "\n",
    "            # Update Q-table\n",
    "            q_table.setdefault(state, {a: 0 for a in ACTIONS})\n",
    "            q_table.setdefault(next_state, {a: 0 for a in ACTIONS})\n",
    "\n",
    "            old_value = q_table[state][action]\n",
    "            next_max = max(q_table[next_state].values())\n",
    "            q_table[state][action] = old_value + alpha * (reward + gamma * next_max - old_value)\n",
    "\n",
    "            total_reward += reward\n",
    "\n",
    "        widget.reset()\n",
    "\n",
    "        print(f\"Episode {ep+1}: total reward = {total_reward:.2f}\")\n",
    "\n",
    "# Create and show robot\n",
    "widget = RobotSim(example_maps.gen_simple_map(), debugDraw=True, show_controls=True)\n",
    "display(widget)\n",
    "\n",
    "# ✅ Run in Jupyter\n",
    "await train_q_learning()\n"
   ]
  }
 ],
 "metadata": {
  "kernelspec": {
   "display_name": "Python 3",
   "language": "python",
   "name": "python3"
  },
  "language_info": {
   "codemirror_mode": {
    "name": "ipython",
    "version": 3
   },
   "file_extension": ".py",
   "mimetype": "text/x-python",
   "name": "python",
   "nbconvert_exporter": "python",
   "pygments_lexer": "ipython3",
   "version": "3.13.7"
  }
 },
 "nbformat": 4,
 "nbformat_minor": 5
}
